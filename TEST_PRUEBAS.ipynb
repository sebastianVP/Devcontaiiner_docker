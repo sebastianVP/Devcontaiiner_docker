{
 "cells": [
  {
   "cell_type": "code",
   "execution_count": 1,
   "id": "961c6521-8740-4f6a-b8a5-9579098b3063",
   "metadata": {},
   "outputs": [
    {
     "name": "stdout",
     "output_type": "stream",
     "text": [
      "Hello World Docker\n"
     ]
    }
   ],
   "source": [
    "print(\"Hello World Docker\")"
   ]
  },
  {
   "cell_type": "code",
   "execution_count": null,
   "id": "9322b2df-4a41-460e-bf83-e2741a7d821e",
   "metadata": {},
   "outputs": [],
   "source": []
  },
  {
   "cell_type": "code",
   "execution_count": null,
   "id": "dff242e5-2862-4a7b-a24f-5a1742ba1f32",
   "metadata": {},
   "outputs": [],
   "source": []
  },
  {
   "cell_type": "code",
   "execution_count": null,
   "id": "15c660ed-ed7c-4ba6-b042-7d571ae59aa1",
   "metadata": {},
   "outputs": [],
   "source": []
  }
 ],
 "metadata": {
  "kernelspec": {
   "display_name": "Python 3 (ipykernel)",
   "language": "python",
   "name": "python3"
  },
  "language_info": {
   "codemirror_mode": {
    "name": "ipython",
    "version": 3
   },
   "file_extension": ".py",
   "mimetype": "text/x-python",
   "name": "python",
   "nbconvert_exporter": "python",
   "pygments_lexer": "ipython3",
   "version": "3.11.5"
  }
 },
 "nbformat": 4,
 "nbformat_minor": 5
}
